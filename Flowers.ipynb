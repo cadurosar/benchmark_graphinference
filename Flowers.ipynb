{
 "cells": [
  {
   "cell_type": "code",
   "execution_count": 30,
   "metadata": {},
   "outputs": [],
   "source": [
    "import pandas as pd\n",
    "import numpy as np\n",
    "import scipy\n",
    "import os\n",
    "\n",
    "home = os.path.expanduser(\"~\")\n",
    "\n",
    "data_path_default = os.path.join(home,\"data\")\n",
    "flowers_path =  os.path.join(data_path_default,\"102flowers\")\n",
    "img_path = os.path.join(flowers_path,\"jpg\")\n",
    "\n",
    "labels = scipy.io.loadmat(os.path.join(flowers_path,\"imagelabels.mat\"))[\"labels\"][0]\n",
    "setid = scipy.io.loadmat(os.path.join(flowers_path,\"setid.mat\"))[\"trnid\"][0]"
   ]
  },
  {
   "cell_type": "code",
   "execution_count": 33,
   "metadata": {},
   "outputs": [
    {
     "data": {
      "text/plain": [
       "102"
      ]
     },
     "execution_count": 33,
     "metadata": {},
     "output_type": "execute_result"
    }
   ],
   "source": [
    "labels_training = labels[setid]\n",
    "max(labels_training)\n",
    "for a in range(102):\n",
    "    makedirs(os.path.join(data_path_default))"
   ]
  },
  {
   "cell_type": "code",
   "execution_count": 41,
   "metadata": {},
   "outputs": [
    {
     "name": "stdout",
     "output_type": "stream",
     "text": [
      "image_00028.jpg\n"
     ]
    }
   ],
   "source": [
    "all_images = [f for f in os.listdir(img_path) if os.path.isfile(os.path.join(img_path, f))]\n",
    "len(all_images),all_images[-1]\n",
    "for filename in sorted(all_images):\n",
    "    _id = int(filename.split(\".\")[0].split(\"_\")[1])\n",
    "    if _id in setid:\n",
    "        target = labels[_id]\n",
    "        \n",
    "        break"
   ]
  },
  {
   "cell_type": "code",
   "execution_count": 45,
   "metadata": {},
   "outputs": [
    {
     "data": {
      "text/plain": [
       "array([], dtype=int64)"
      ]
     },
     "execution_count": 45,
     "metadata": {},
     "output_type": "execute_result"
    }
   ],
   "source": []
  }
 ],
 "metadata": {
  "kernelspec": {
   "display_name": "Python [conda env:.conda-graph_kd] *",
   "language": "python",
   "name": "conda-env-.conda-graph_kd-py"
  },
  "language_info": {
   "codemirror_mode": {
    "name": "ipython",
    "version": 3
   },
   "file_extension": ".py",
   "mimetype": "text/x-python",
   "name": "python",
   "nbconvert_exporter": "python",
   "pygments_lexer": "ipython3",
   "version": "3.7.4"
  }
 },
 "nbformat": 4,
 "nbformat_minor": 4
}
