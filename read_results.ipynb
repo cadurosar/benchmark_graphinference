{
 "cells": [
  {
   "cell_type": "code",
   "execution_count": 1,
   "metadata": {},
   "outputs": [
    {
     "data": {
      "text/plain": [
       "dataset     kalofolias  nnk  \n",
       "ESC-50      False       False    0.65\n",
       "                        True     0.66\n",
       "            True        False    0.65\n",
       "cora        False       False    0.34\n",
       "                        True     0.34\n",
       "            True        False    0.27\n",
       "flowers102  False       False    0.46\n",
       "                        True     0.44\n",
       "            True        False    0.44\n",
       "Name: ami, dtype: float64"
      ]
     },
     "execution_count": 1,
     "metadata": {},
     "output_type": "execute_result"
    }
   ],
   "source": [
    "import pandas\n",
    "import numpy as np\n",
    "\n",
    "def round_(x):\n",
    "    if x.dtype == \"float64\":\n",
    "        return np.round(x,2)\n",
    "    else:\n",
    "        return x\n",
    "\n",
    "df = pandas.read_csv(\"results/unsupervised.csv\")\n",
    "df[\"ami\"] = df[\"ami\"]/100\n",
    "_max_unsup = df.groupby([\"dataset\",\"kalofolias\",\"nnk\"]).agg(\"max\").apply(round_)[\"ami\"]\n",
    "\n",
    "_max_unsup"
   ]
  },
  {
   "cell_type": "code",
   "execution_count": 2,
   "metadata": {},
   "outputs": [
    {
     "data": {
      "text/plain": [
       "dataset     kalofolias  nnk  \n",
       "ESC-50      False       False    59.05\n",
       "                        True     57.44\n",
       "            True        False    59.16\n",
       "cora        False       False    58.86\n",
       "                        True     58.66\n",
       "            True        False    58.60\n",
       "flowers102  False       False    36.73\n",
       "                        True     33.57\n",
       "            True        False    37.01\n",
       "Name: label_prop_test, dtype: float64"
      ]
     },
     "execution_count": 2,
     "metadata": {},
     "output_type": "execute_result"
    }
   ],
   "source": [
    "df = pandas.read_csv(\"results/labelprop.csv\")\n",
    "_max_label = df.groupby([\"dataset\",\"kalofolias\",\"nnk\"]).agg(\"max\").apply(round_)[\"label_prop_test\"]\n",
    "\n",
    "_max_label"
   ]
  },
  {
   "cell_type": "code",
   "execution_count": 3,
   "metadata": {},
   "outputs": [
    {
     "data": {
      "text/plain": [
       "dataset     kalofolias  nnk  \n",
       "ESC-50      False       False    60.48\n",
       "                        True     61.38\n",
       "            True        False    59.36\n",
       "cora        False       False    67.19\n",
       "                        True     66.58\n",
       "            True        False    66.28\n",
       "flowers102  False       False    37.73\n",
       "                        True     36.81\n",
       "            True        False    37.50\n",
       "Name: acc_test, dtype: float64"
      ]
     },
     "execution_count": 3,
     "metadata": {},
     "output_type": "execute_result"
    }
   ],
   "source": [
    "df = pandas.read_csv(\"results/sgc.csv\")\n",
    "_max_sgc = df.groupby([\"dataset\",\"kalofolias\",\"nnk\"]).agg(\"max\").apply(round_)[\"acc_test\"]\n",
    "\n",
    "_max_sgc"
   ]
  },
  {
   "cell_type": "code",
   "execution_count": 4,
   "metadata": {},
   "outputs": [
    {
     "data": {
      "text/plain": [
       "dataset  kalofolias  nnk  \n",
       "toronto  False       False     9.80\n",
       "                     True      9.99\n",
       "         True        False    10.41\n",
       "Name: snr, dtype: float64"
      ]
     },
     "execution_count": 4,
     "metadata": {},
     "output_type": "execute_result"
    }
   ],
   "source": [
    "df = pandas.read_csv(\"results/benchmark_denoising.csv\")\n",
    "_max_denoising = df.groupby([\"dataset\",\"kalofolias\",\"nnk\"]).agg(\"max\").apply(round_)[\"snr\"]\n",
    "\n",
    "_max_denoising"
   ]
  },
  {
   "cell_type": "code",
   "execution_count": 43,
   "metadata": {},
   "outputs": [
    {
     "data": {
      "text/html": [
       "<div>\n",
       "<style scoped>\n",
       "    .dataframe tbody tr th:only-of-type {\n",
       "        vertical-align: middle;\n",
       "    }\n",
       "\n",
       "    .dataframe tbody tr th {\n",
       "        vertical-align: top;\n",
       "    }\n",
       "\n",
       "    .dataframe thead th {\n",
       "        text-align: right;\n",
       "    }\n",
       "</style>\n",
       "<table border=\"1\" class=\"dataframe\">\n",
       "  <thead>\n",
       "    <tr style=\"text-align: right;\">\n",
       "      <th></th>\n",
       "      <th></th>\n",
       "      <th></th>\n",
       "      <th>ami</th>\n",
       "      <th>acc_test</th>\n",
       "      <th>label_prop_test</th>\n",
       "      <th>snr</th>\n",
       "    </tr>\n",
       "    <tr>\n",
       "      <th>dataset</th>\n",
       "      <th>kalofolias</th>\n",
       "      <th>nnk</th>\n",
       "      <th></th>\n",
       "      <th></th>\n",
       "      <th></th>\n",
       "      <th></th>\n",
       "    </tr>\n",
       "  </thead>\n",
       "  <tbody>\n",
       "    <tr>\n",
       "      <th rowspan=\"3\" valign=\"top\">ESC-50</th>\n",
       "      <th rowspan=\"2\" valign=\"top\">False</th>\n",
       "      <th>False</th>\n",
       "      <td>0.65</td>\n",
       "      <td>NaN</td>\n",
       "      <td>59.05</td>\n",
       "      <td>NaN</td>\n",
       "    </tr>\n",
       "    <tr>\n",
       "      <th>True</th>\n",
       "      <td>0.66</td>\n",
       "      <td>NaN</td>\n",
       "      <td>57.44</td>\n",
       "      <td>NaN</td>\n",
       "    </tr>\n",
       "    <tr>\n",
       "      <th>True</th>\n",
       "      <th>False</th>\n",
       "      <td>0.65</td>\n",
       "      <td>59.36</td>\n",
       "      <td>59.16</td>\n",
       "      <td>NaN</td>\n",
       "    </tr>\n",
       "    <tr>\n",
       "      <th rowspan=\"3\" valign=\"top\">cora</th>\n",
       "      <th rowspan=\"2\" valign=\"top\">False</th>\n",
       "      <th>False</th>\n",
       "      <td>0.34</td>\n",
       "      <td>67.19</td>\n",
       "      <td>58.86</td>\n",
       "      <td>NaN</td>\n",
       "    </tr>\n",
       "    <tr>\n",
       "      <th>True</th>\n",
       "      <td>0.34</td>\n",
       "      <td>66.58</td>\n",
       "      <td>58.66</td>\n",
       "      <td>NaN</td>\n",
       "    </tr>\n",
       "    <tr>\n",
       "      <th>True</th>\n",
       "      <th>False</th>\n",
       "      <td>0.27</td>\n",
       "      <td>66.28</td>\n",
       "      <td>58.60</td>\n",
       "      <td>NaN</td>\n",
       "    </tr>\n",
       "    <tr>\n",
       "      <th rowspan=\"3\" valign=\"top\">flowers102</th>\n",
       "      <th rowspan=\"2\" valign=\"top\">False</th>\n",
       "      <th>False</th>\n",
       "      <td>0.46</td>\n",
       "      <td>37.73</td>\n",
       "      <td>36.73</td>\n",
       "      <td>NaN</td>\n",
       "    </tr>\n",
       "    <tr>\n",
       "      <th>True</th>\n",
       "      <td>0.44</td>\n",
       "      <td>36.81</td>\n",
       "      <td>33.57</td>\n",
       "      <td>NaN</td>\n",
       "    </tr>\n",
       "    <tr>\n",
       "      <th>True</th>\n",
       "      <th>False</th>\n",
       "      <td>0.44</td>\n",
       "      <td>37.50</td>\n",
       "      <td>37.01</td>\n",
       "      <td>NaN</td>\n",
       "    </tr>\n",
       "    <tr>\n",
       "      <th rowspan=\"3\" valign=\"top\">toronto</th>\n",
       "      <th rowspan=\"2\" valign=\"top\">False</th>\n",
       "      <th>False</th>\n",
       "      <td>NaN</td>\n",
       "      <td>NaN</td>\n",
       "      <td>NaN</td>\n",
       "      <td>9.80</td>\n",
       "    </tr>\n",
       "    <tr>\n",
       "      <th>True</th>\n",
       "      <td>NaN</td>\n",
       "      <td>NaN</td>\n",
       "      <td>NaN</td>\n",
       "      <td>9.99</td>\n",
       "    </tr>\n",
       "    <tr>\n",
       "      <th>True</th>\n",
       "      <th>False</th>\n",
       "      <td>NaN</td>\n",
       "      <td>NaN</td>\n",
       "      <td>NaN</td>\n",
       "      <td>10.41</td>\n",
       "    </tr>\n",
       "  </tbody>\n",
       "</table>\n",
       "</div>"
      ],
      "text/plain": [
       "                              ami  acc_test  label_prop_test    snr\n",
       "dataset    kalofolias nnk                                          \n",
       "ESC-50     False      False  0.65       NaN            59.05    NaN\n",
       "                      True   0.66       NaN            57.44    NaN\n",
       "           True       False  0.65     59.36            59.16    NaN\n",
       "cora       False      False  0.34     67.19            58.86    NaN\n",
       "                      True   0.34     66.58            58.66    NaN\n",
       "           True       False  0.27     66.28            58.60    NaN\n",
       "flowers102 False      False  0.46     37.73            36.73    NaN\n",
       "                      True   0.44     36.81            33.57    NaN\n",
       "           True       False  0.44     37.50            37.01    NaN\n",
       "toronto    False      False   NaN       NaN              NaN   9.80\n",
       "                      True    NaN       NaN              NaN   9.99\n",
       "           True       False   NaN       NaN              NaN  10.41"
      ]
     },
     "execution_count": 43,
     "metadata": {},
     "output_type": "execute_result"
    }
   ],
   "source": [
    "pandas.concat([_max_unsup,_max_sgc,_max_label,_max_denoising],axis=1)"
   ]
  }
 ],
 "metadata": {
  "kernelspec": {
   "display_name": "Python [conda env:benchmark_inference] *",
   "language": "python",
   "name": "conda-env-benchmark_inference-py"
  },
  "language_info": {
   "codemirror_mode": {
    "name": "ipython",
    "version": 3
   },
   "file_extension": ".py",
   "mimetype": "text/x-python",
   "name": "python",
   "nbconvert_exporter": "python",
   "pygments_lexer": "ipython3",
   "version": "3.7.4"
  }
 },
 "nbformat": 4,
 "nbformat_minor": 4
}
